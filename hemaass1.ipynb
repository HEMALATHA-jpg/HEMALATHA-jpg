{
 "cells": [
  {
   "cell_type": "code",
   "execution_count": 1,
   "id": "ff7f9266-5e02-457c-a4e1-3969846aedfd",
   "metadata": {},
   "outputs": [],
   "source": [
    "#Read the data set"
   ]
  },
  {
   "cell_type": "raw",
   "id": "5b06bf2b-edc6-4bb5-bd1c-38b66da33413",
   "metadata": {},
   "source": [
    "Q1 Explain the key features of Python that make it a popular choice for programming\n",
    "Free and Open Source, Easy to code, Easy to Read, Object-Oriented Language, High-Level Language, Large Community Support, Easy to Debug, Python is a Portable language, Python is an Integrated language\n",
    "Interpreted Language, Large Standard Library, Dynamically Typed Language, Frontend and backend development, Allocating Memory Dynamically"
   ]
  },
  {
   "cell_type": "raw",
   "id": "2fc5c6c7-fe37-47fb-844b-5d2947a82e60",
   "metadata": {},
   "source": [
    "Q2 Describe the role of predefined keywords in Python and provide examples of how they are used in a Program"
   ]
  },
  {
   "cell_type": "code",
   "execution_count": 9,
   "id": "641bdaaf-99a1-45e6-8804-03e998124869",
   "metadata": {},
   "outputs": [
    {
     "name": "stdout",
     "output_type": "stream",
     "text": [
      "['False', 'None', 'True', 'and', 'as', 'assert', 'async', 'await', 'break', 'class', 'continue', 'def', 'del', 'elif', 'else', 'except', 'finally', 'for', 'from', 'global', 'if', 'import', 'in', 'is', 'lambda', 'nonlocal', 'not', 'or', 'pass', 'raise', 'return', 'try', 'while', 'with', 'yield']\n"
     ]
    }
   ],
   "source": [
    "# code\n",
    "import keyword\n",
    "\n",
    "print(keyword.kwlist)"
   ]
  },
  {
   "cell_type": "raw",
   "id": "52ad7771-6b63-4b23-a681-fd393b51c05a",
   "metadata": {},
   "source": [
    "place holders where we kept and, or, not, True, False keywords"
   ]
  },
  {
   "cell_type": "code",
   "execution_count": 5,
   "id": "4466eabc-9e01-441c-b76d-c0ba44cf4a33",
   "metadata": {},
   "outputs": [
    {
     "name": "stdout",
     "output_type": "stream",
     "text": [
      "True\n",
      "True\n",
      "True\n"
     ]
    }
   ],
   "source": [
    "#  compare two operands using and operator\n",
    "print(True and True)\n",
    "# compare two operands using or operator\n",
    "print(True or False)\n",
    "# use of not operator\n",
    "print(not False)"
   ]
  },
  {
   "cell_type": "raw",
   "id": "65934b88-582d-4472-ae35-9a8c6f1874a2",
   "metadata": {},
   "source": [
    "place holders where we kept break, continue keywords and identifier"
   ]
  },
  {
   "cell_type": "code",
   "execution_count": 6,
   "id": "26ecd240-96e4-484b-88b7-9b9e70c90c8b",
   "metadata": {},
   "outputs": [
    {
     "name": "stdout",
     "output_type": "stream",
     "text": [
      "1\n",
      "2\n",
      "3\n",
      "4\n",
      "5\n"
     ]
    }
   ],
   "source": [
    "# execute for loop\n",
    "for i in range(1, 11):\n",
    "    # print the value of i\n",
    "    print(i)\n",
    "# check the value of i is less than 5\n",
    "# if i lessthan 5 then continue loop\n",
    "    if i < 5:  \n",
    "        continue\n",
    " # if i greater than 5 then break loop\n",
    "    else:  \n",
    "        break"
   ]
  },
  {
   "cell_type": "raw",
   "id": "fa538597-53c4-46d1-92fe-ed26631ae58a",
   "metadata": {},
   "source": [
    "example of for, in, if, elif, and else keywords"
   ]
  },
  {
   "cell_type": "code",
   "execution_count": 10,
   "id": "1b49e138-7814-4356-b404-4cd3fa4e60f5",
   "metadata": {},
   "outputs": [
    {
     "name": "stdout",
     "output_type": "stream",
     "text": [
      "One\n",
      "Two\n",
      "else block execute\n",
      "else block execute\n"
     ]
    }
   ],
   "source": [
    "# run for loop\n",
    "for t in range(1, 5):\n",
    "  # print one of t ==1\n",
    "    if t == 1:\n",
    "        print('One')\n",
    "   # print two if t ==2\n",
    "    elif t == 2:\n",
    "        print('Two')\n",
    "    else:\n",
    "        print('else block execute')"
   ]
  },
  {
   "cell_type": "raw",
   "id": "d199eef8-c531-4327-b448-cd4dd1a4ffcc",
   "metadata": {},
   "source": [
    "Example of def, if, and else keywords"
   ]
  },
  {
   "cell_type": "code",
   "execution_count": 11,
   "id": "0b16d998-62d0-491c-b5a6-75ba4b56d075",
   "metadata": {},
   "outputs": [
    {
     "name": "stdout",
     "output_type": "stream",
     "text": [
      "given number is even\n"
     ]
    }
   ],
   "source": [
    "# define GFG() function using def keyword\n",
    "def GFG():\n",
    "    i=20\n",
    "    # check i is odd or not \n",
    "    # using if and else keyword\n",
    "    if(i % 2 == 0):\n",
    "        print(\"given number is even\")\n",
    "    else:\n",
    "        print(\"given number is odd\")    \n",
    "    \n",
    "# call GFG() function    \n",
    "GFG()"
   ]
  },
  {
   "cell_type": "raw",
   "id": "cd41f63a-3780-4267-9699-659af7b32184",
   "metadata": {},
   "source": [
    "Example of try, except, raise, lambda keyword"
   ]
  },
  {
   "cell_type": "code",
   "execution_count": 13,
   "id": "b52217ca-de9e-4265-9830-f1101c64cce0",
   "metadata": {},
   "outputs": [
    {
     "name": "stdout",
     "output_type": "stream",
     "text": [
      "0.1\n",
      "Exception raises\n",
      "None\n",
      "2\n",
      "3\n",
      "4\n",
      "5\n",
      "6\n"
     ]
    }
   ],
   "source": [
    "def fun(num):\n",
    "    try:\n",
    "        r = 1.0/num\n",
    "    except:\n",
    "        print('Exception raises')\n",
    "        return\n",
    "    return r\n",
    "\n",
    "print(fun(10))\n",
    "print(fun(0))\n",
    "\n",
    "# define a anonymous using lambda keyword\n",
    "# this lambda function increment the value of b\n",
    "a = lambda b: b+1\n",
    "\n",
    "# run a for loop \n",
    "for i in range(1, 6):\n",
    "    print(a(i))"
   ]
  },
  {
   "cell_type": "raw",
   "id": "ffee6fbb-9bad-4607-80f4-2accbd7b79c5",
   "metadata": {},
   "source": [
    "3.  Compare and contrast mutable and immutable objects in Python with examples"
   ]
  },
  {
   "cell_type": "code",
   "execution_count": 15,
   "id": "06af3750-95de-41f3-ad86-263cb229c119",
   "metadata": {},
   "outputs": [
    {
     "name": "stdout",
     "output_type": "stream",
     "text": [
      "['Vikram', 'Anshul', 'Amit', 'Suresh', 'Kamal']\n"
     ]
    }
   ],
   "source": [
    "# A mutable data type is those whose values can be changed List, Dictionaries, and Set\n",
    "#create a list of student\n",
    "\n",
    "name = ['Vikram', 'Anshul', 'Amit', 'Suresh']\n",
    "\n",
    "#add element in the existing list\n",
    "name.append('Kamal')\n",
    "\n",
    "#print the result\n",
    "print(name)"
   ]
  },
  {
   "cell_type": "code",
   "execution_count": 16,
   "id": "d9e8a829-29e1-4241-ab4e-55c153f42ba8",
   "metadata": {},
   "outputs": [
    {
     "name": "stdout",
     "output_type": "stream",
     "text": [
      "{'name': 'Vikram', 'age': 30, 'department': 'Editorial'}\n"
     ]
    }
   ],
   "source": [
    "# create a dictionary: Employee\n",
    "\n",
    "employee = {'name' : 'Vikram', 'age' : 30, 'department' : 'Content Management'}\n",
    "\n",
    "# change the department name from Content Management to Editorial\n",
    "\n",
    "employee['department'] = 'Editorial'\n",
    "\n",
    "#print the dictionary\n",
    "\n",
    "print(employee)"
   ]
  },
  {
   "cell_type": "code",
   "execution_count": 17,
   "id": "2bc8e642-d22f-4356-8b05-e678b5f96e85",
   "metadata": {},
   "outputs": [
    {
     "name": "stdout",
     "output_type": "stream",
     "text": [
      "Original set: {'Suresh', 'Anshul', 'Amit', 'Vikram'}\n",
      "After adding 'Kunal': {'Kunal', 'Amit', 'Anshul', 'Vikram', 'Suresh'}\n",
      "After removing 'Amit': {'Kunal', 'Anshul', 'Vikram', 'Suresh'}\n",
      "After adding 'Ankit' and 'Harsh': {'Kunal', 'Harsh', 'Ankit', 'Anshul', 'Vikram', 'Suresh'}\n"
     ]
    }
   ],
   "source": [
    "# Creating a set\n",
    "name = {'Vikram', 'Anshul', 'Amit', 'Suresh'}\n",
    "\n",
    "# Displaying the original set\n",
    "print(\"Original set:\", name)\n",
    "\n",
    "# Adding an element to the set\n",
    "name.add(\"Kunal\")\n",
    "print(\"After adding 'Kunal':\", name)\n",
    "\n",
    "# Removing an element from the set\n",
    "name.remove(\"Amit\")\n",
    "print(\"After removing 'Amit':\", name)\n",
    "\n",
    "# Adding multiple elements using the update method\n",
    "name.update([\"Ankit\", \"Harsh\"])\n",
    "print(\"After adding 'Ankit' and 'Harsh':\", name)"
   ]
  },
  {
   "cell_type": "code",
   "execution_count": 19,
   "id": "007616d3-476e-4232-8e95-9c31c6175040",
   "metadata": {},
   "outputs": [
    {
     "name": "stdout",
     "output_type": "stream",
     "text": [
      "Strings are immutable and cannot be changed.\n",
      "Tuples are immutable and cannot be changed.\n",
      "The value of the string is: Hello, world!\n",
      "The value of the tuple is: (1, 2, 3)\n"
     ]
    }
   ],
   "source": [
    "# Immutable Data Type – An immutable data type is one in which the values can’t be changed or altered String and Tuples\n",
    "\"\"\"\n",
    "This program shows how strings and tuples are immutable in Python.\n",
    "\"\"\"\n",
    "\n",
    "my_string = \"Hello, world!\"\n",
    "\n",
    "try:\n",
    "  \"\"\"\n",
    "  This code tries to change the first character of the string to \"H\".\n",
    "  However, the code will throw a TypeError because strings are immutable.\n",
    "  \"\"\"\n",
    "  my_string[0] = \"H\"\n",
    "except TypeError:\n",
    "  print(\"Strings are immutable and cannot be changed.\")\n",
    "\n",
    "my_tuple = (1, 2, 3)\n",
    "\n",
    "\n",
    "try:\n",
    "  \"\"\"\n",
    "  This code tries to change the first element of the tuple to 4.\n",
    "  However, the code will throw a TypeError because tuples are immutable.\n",
    "  \"\"\"\n",
    "  my_tuple[0] = 4\n",
    "except TypeError:\n",
    "  print(\"Tuples are immutable and cannot be changed.\")\n",
    "\n",
    "print(\"The value of the string is:\", my_string)\n",
    "\n",
    "print(\"The value of the tuple is:\", my_tuple)"
   ]
  },
  {
   "cell_type": "raw",
   "id": "00b6af62-dd63-46b2-a7a5-10f222f1dc8a",
   "metadata": {},
   "source": [
    "Q4. Discuss the different types of operators in Python and provide examples of how they are used"
   ]
  },
  {
   "cell_type": "code",
   "execution_count": 20,
   "id": "9687a952-62bd-4ca9-89a3-1105588f539c",
   "metadata": {},
   "outputs": [],
   "source": [
    "# In Python, operators are special symbols or keywords that carry out operations on values and python variables. They serve as a basis for expressions, which are used to modify data and execute computations. Python contains several operators, each with its unique purpose.\n",
    "# Python Arithmetic Operators"
   ]
  },
  {
   "cell_type": "code",
   "execution_count": 21,
   "id": "ff078aca-1671-4bac-831c-f6218673b739",
   "metadata": {},
   "outputs": [
    {
     "name": "stdout",
     "output_type": "stream",
     "text": [
      "a + b :  31\n",
      "a - b :  11\n",
      "a * b :  210\n",
      "a / b :  2.1\n",
      "a % b :  1\n",
      "a ** b :  16679880978201\n",
      "a // b :  2\n"
     ]
    }
   ],
   "source": [
    "a = 21\n",
    "b = 10\n",
    "# Addition\n",
    "print (\"a + b : \", a + b)\n",
    "# Subtraction\n",
    "print (\"a - b : \", a - b)\n",
    "# Multiplication\n",
    "print (\"a * b : \", a * b)\n",
    "# Division\n",
    "print (\"a / b : \", a / b)\n",
    "# Modulus\n",
    "print (\"a % b : \", a % b)\n",
    "# Exponent\n",
    "print (\"a ** b : \", a ** b)\n",
    "# Floor Division\n",
    "print (\"a // b : \", a // b)"
   ]
  },
  {
   "cell_type": "code",
   "execution_count": 22,
   "id": "b583c84f-1f7a-4039-93ec-9496c241be2c",
   "metadata": {},
   "outputs": [
    {
     "name": "stdout",
     "output_type": "stream",
     "text": [
      "a == b :  False\n",
      "a != b :  True\n",
      "a > b :  False\n",
      "a < b :  True\n",
      "a >= b :  False\n",
      "a <= b :  True\n"
     ]
    }
   ],
   "source": [
    "# Comparison Operators\n",
    "a = 4\n",
    "b = 5\n",
    "# Equal\n",
    "print (\"a == b : \", a == b)\n",
    "# Not Equal\n",
    "print (\"a != b : \", a != b)\n",
    "# Greater Than\n",
    "print (\"a > b : \", a > b)\n",
    "# Less Than\n",
    "print (\"a < b : \", a < b)\n",
    "# Greater Than or Equal to\n",
    "print (\"a >= b : \", a >= b)\n",
    "# Less Than or Equal to\n",
    "print (\"a <= b : \", a <= b)"
   ]
  },
  {
   "cell_type": "code",
   "execution_count": 24,
   "id": "b3123e49-61d1-4dc6-8c3b-d5a6375f1a9a",
   "metadata": {},
   "outputs": [
    {
     "name": "stdout",
     "output_type": "stream",
     "text": [
      "a += 5 :  15\n",
      "a -= 5 :  10\n",
      "a *= 5 :  50\n",
      "a /= 5 :  10.0\n",
      "a %= 3 :  1.0\n",
      "a **= 2 :  1.0\n",
      "a //= 3 :  0.0\n"
     ]
    }
   ],
   "source": [
    "# Assignment Operators\n",
    "# Assignment Operator\n",
    "a = 10\n",
    "# Addition Assignment\n",
    "a += 5\n",
    "print (\"a += 5 : \", a)\n",
    "# Subtraction Assignment\n",
    "a -= 5\n",
    "print (\"a -= 5 : \", a)\n",
    "# Multiplication Assignment\n",
    "a *= 5\n",
    "print (\"a *= 5 : \", a)\n",
    "# Division Assignment\n",
    "a /= 5\n",
    "print (\"a /= 5 : \",a)\n",
    "# Remainder Assignment\n",
    "a %= 3\n",
    "print (\"a %= 3 : \", a)\n",
    "# Exponent Assignment\n",
    "a **= 2\n",
    "print (\"a **= 2 : \", a)\n",
    "# Floor Division Assignment\n",
    "a //= 3\n",
    "print (\"a //= 3 : \", a)"
   ]
  },
  {
   "cell_type": "code",
   "execution_count": 25,
   "id": "29bd0760-d820-4789-8936-9c32c6576816",
   "metadata": {},
   "outputs": [
    {
     "name": "stdout",
     "output_type": "stream",
     "text": [
      "a & b :  12\n",
      "a | b :  61\n",
      "a ^ b :  49\n",
      "~a :  -61\n",
      "a << 2 :  240\n",
      "a >> 2 :  15\n"
     ]
    }
   ],
   "source": [
    "# Bitwise Operators\n",
    "a = 60 # 60 = 0011 1100\n",
    "b = 13 # 13 = 0000 1101\n",
    "# Binary AND\n",
    "c = a & b # 12 = 0000 1100\n",
    "print (\"a & b : \", c)\n",
    "# Binary OR\n",
    "c = a | b # 61 = 0011 1101\n",
    "print (\"a | b : \", c)\n",
    "# Binary XOR\n",
    "c = a ^ b # 49 = 0011 0001\n",
    "print (\"a ^ b : \", c)\n",
    "# Binary Ones Complement\n",
    "c = ~a; # -61 = 1100 0011\n",
    "print (\"~a : \", c)\n",
    "# Binary Left Shift\n",
    "c = a << 2; # 240 = 1111 0000\n",
    "print (\"a << 2 : \", c)\n",
    "# Binary Right Shift\n",
    "c = a >> 2; # 15 = 0000 1111\n",
    "print (\"a >> 2 : \", c)"
   ]
  },
  {
   "cell_type": "code",
   "execution_count": 26,
   "id": "94d8abba-494e-4099-a5f9-53f8897d7158",
   "metadata": {},
   "outputs": [
    {
     "name": "stdout",
     "output_type": "stream",
     "text": [
      "Both x and y are within the specified range\n"
     ]
    }
   ],
   "source": [
    "# Logical Operators\n",
    "x = 5\n",
    "y = 10\n",
    "if x > 3 and y < 15:\n",
    "  print(\"Both x and y are within the specified range\")"
   ]
  },
  {
   "cell_type": "code",
   "execution_count": 27,
   "id": "a53177a2-2264-4bbf-93ed-5fdee103e45d",
   "metadata": {},
   "outputs": [
    {
     "name": "stdout",
     "output_type": "stream",
     "text": [
      "Yes, banana is a fruit!\n"
     ]
    }
   ],
   "source": [
    "# Membership Operators\n",
    "fruits = [\"apple\", \"banana\", \"cherry\"]\n",
    "if \"banana\" in fruits:\n",
    "    print(\"Yes, banana is a fruit!\")\n",
    "else:\n",
    "    print(\"No, banana is not a fruit!\")"
   ]
  },
  {
   "cell_type": "code",
   "execution_count": 28,
   "id": "90af6f12-2b26-4f9e-8a84-0bd5afe59407",
   "metadata": {},
   "outputs": [
    {
     "name": "stdout",
     "output_type": "stream",
     "text": [
      "x and y are not the same object\n"
     ]
    }
   ],
   "source": [
    "# Identity Operators\n",
    "x = 10\n",
    "y = 5\n",
    "if x is y:\n",
    "    print(\"x and y are the same object\")\n",
    "else:\n",
    "    print(\"x and y are not the same object\")"
   ]
  },
  {
   "cell_type": "raw",
   "id": "385a8575-c810-411d-bd54-381bf956ee45",
   "metadata": {},
   "source": [
    "Q5 Explain the concept of type casting in Python with examples"
   ]
  },
  {
   "cell_type": "code",
   "execution_count": 29,
   "id": "c326b7dd-f026-45c8-b36b-6ca0c1af7c92",
   "metadata": {},
   "outputs": [
    {
     "name": "stdout",
     "output_type": "stream",
     "text": [
      "<class 'int'>\n",
      "<class 'float'>\n",
      "10.0\n",
      "<class 'float'>\n",
      "21.0\n",
      "<class 'float'>\n"
     ]
    }
   ],
   "source": [
    "# Implicit Type Conversion: In this, method, Python converts the datatype into another datatype automatically. Users don’t have to involve in this process\n",
    "# Python program to demonstrate \n",
    "# implicit type Casting \n",
    "\n",
    "# Python automatically converts \n",
    "# a to int \n",
    "a = 7\n",
    "print(type(a)) \n",
    "\n",
    "# Python automatically converts \n",
    "# b to float \n",
    "b = 3.0\n",
    "print(type(b)) \n",
    "\n",
    "# Python automatically converts \n",
    "# c to float as it is a float addition \n",
    "c = a + b \n",
    "print(c) \n",
    "print(type(c))\n",
    "\n",
    "# Python automatically converts \n",
    "# d to float as it is a float multiplication\n",
    "d = a * b\n",
    "print(d)\n",
    "print(type(d))"
   ]
  },
  {
   "cell_type": "code",
   "execution_count": 30,
   "id": "6d5cb965-bee7-44f7-9ee5-b1e39711bf51",
   "metadata": {},
   "outputs": [
    {
     "name": "stdout",
     "output_type": "stream",
     "text": [
      "5.0\n",
      "<class 'float'>\n"
     ]
    }
   ],
   "source": [
    "# Explicit Type Conversion: In this method, Python needs user involvement to convert the variable data type into the required data type\n",
    "# Convert Int to Float\n",
    "# int variable\n",
    "a = 5\n",
    "\n",
    "# typecast to float\n",
    "n = float(a)\n",
    "\n",
    "print(n)\n",
    "print(type(n))"
   ]
  },
  {
   "cell_type": "code",
   "execution_count": 31,
   "id": "c54eacd0-193c-4bbf-b25d-ad107f1922c5",
   "metadata": {},
   "outputs": [
    {
     "name": "stdout",
     "output_type": "stream",
     "text": [
      "5\n",
      "<class 'int'>\n"
     ]
    }
   ],
   "source": [
    "# Convert Float to Int\n",
    "# int variable\n",
    "a = 5.9\n",
    "\n",
    "# typecast to int\n",
    "n = int(a)\n",
    "\n",
    "print(n)\n",
    "print(type(n))"
   ]
  },
  {
   "cell_type": "code",
   "execution_count": 32,
   "id": "ad1fcd8f-a672-451d-8dc9-b60a5009b2dd",
   "metadata": {},
   "outputs": [
    {
     "name": "stdout",
     "output_type": "stream",
     "text": [
      "5\n",
      "<class 'str'>\n"
     ]
    }
   ],
   "source": [
    "# Convert int to String \n",
    "# int variable\n",
    "a = 5\n",
    "\n",
    "# typecast to str\n",
    "n = str(a)\n",
    "\n",
    "print(n)\n",
    "print(type(n))"
   ]
  },
  {
   "cell_type": "code",
   "execution_count": 34,
   "id": "e6b5d050-06bc-42f2-b13d-67b32f554c37",
   "metadata": {},
   "outputs": [
    {
     "name": "stdout",
     "output_type": "stream",
     "text": [
      "5.9\n",
      "<class 'float'>\n"
     ]
    }
   ],
   "source": [
    "# String to float\n",
    "# string variable\n",
    "a = \"5.9\"\n",
    "\n",
    "# typecast to float\n",
    "n = float(a)\n",
    "\n",
    "print(n)\n",
    "print(type(n))"
   ]
  },
  {
   "cell_type": "code",
   "execution_count": 35,
   "id": "256266d2-be83-4edf-beff-55848d9725cd",
   "metadata": {},
   "outputs": [
    {
     "name": "stdout",
     "output_type": "stream",
     "text": [
      "5\n",
      "<class 'int'>\n"
     ]
    },
    {
     "ename": "ValueError",
     "evalue": "invalid literal for int() with base 10: 't'",
     "output_type": "error",
     "traceback": [
      "\u001b[0;31m---------------------------------------------------------------------------\u001b[0m",
      "\u001b[0;31mValueError\u001b[0m                                Traceback (most recent call last)",
      "Cell \u001b[0;32mIn[35], line 12\u001b[0m\n\u001b[1;32m      9\u001b[0m \u001b[38;5;28mprint\u001b[39m(n)\n\u001b[1;32m     10\u001b[0m \u001b[38;5;28mprint\u001b[39m(\u001b[38;5;28mtype\u001b[39m(n))\n\u001b[0;32m---> 12\u001b[0m \u001b[38;5;28mprint\u001b[39m(\u001b[38;5;28;43mint\u001b[39;49m\u001b[43m(\u001b[49m\u001b[43mb\u001b[49m\u001b[43m)\u001b[49m)\n\u001b[1;32m     13\u001b[0m \u001b[38;5;28mprint\u001b[39m(\u001b[38;5;28mtype\u001b[39m(b))\n",
      "\u001b[0;31mValueError\u001b[0m: invalid literal for int() with base 10: 't'"
     ]
    }
   ],
   "source": [
    "# string to int\n",
    "# string variable\n",
    "a = \"5\"\n",
    "b = 't'\n",
    "\n",
    "# typecast to int\n",
    "n = int(a)\n",
    "\n",
    "print(n)\n",
    "print(type(n))\n",
    "\n",
    "print(int(b))\n",
    "print(type(b))"
   ]
  },
  {
   "cell_type": "raw",
   "id": "7fc13892-5daa-498e-a1f8-a7e2e5588556",
   "metadata": {},
   "source": [
    "Q6 How do conditional statements work in Python? Illustrate with examples"
   ]
  },
  {
   "cell_type": "code",
   "execution_count": 36,
   "id": "21fd1e76-6602-4e78-9fde-634c479f4d3a",
   "metadata": {},
   "outputs": [
    {
     "name": "stdout",
     "output_type": "stream",
     "text": [
      "10 greater than 5\n",
      "Program ended\n"
     ]
    }
   ],
   "source": [
    "# If Conditional Statement in Python: If the simple code of block is to be performed if the condition holds then the if statement is used. Here the condition mentioned holds then the code of the block runs otherwise not\n",
    "# if statement example\n",
    "if 10 > 5:\n",
    "    print(\"10 greater than 5\")\n",
    "\n",
    "print(\"Program ended\")"
   ]
  },
  {
   "cell_type": "code",
   "execution_count": 37,
   "id": "ef0246e9-b4bd-4498-a1e9-4df5b2c43d1d",
   "metadata": {},
   "outputs": [
    {
     "name": "stdout",
     "output_type": "stream",
     "text": [
      "No\n"
     ]
    }
   ],
   "source": [
    "# If else Conditional Statements in Python: In a conditional if Statement the additional block of code is merged as an else statement which is performed when if condition is false\n",
    "# if..else statement example\n",
    "x = 3\n",
    "if x == 4:\n",
    "    print(\"Yes\")\n",
    "else:\n",
    "    print(\"No\")"
   ]
  },
  {
   "cell_type": "code",
   "execution_count": 38,
   "id": "ada77a6e-9d7c-4986-a77d-0cb339d32163",
   "metadata": {},
   "outputs": [
    {
     "name": "stdout",
     "output_type": "stream",
     "text": [
      "letter is A\n"
     ]
    }
   ],
   "source": [
    "# Nested if..else Conditional Statements in Python: Nested if..else means an if-else statement inside another if statement\n",
    "# if..else chain statement\n",
    "letter = \"A\"\n",
    "\n",
    "if letter == \"B\":\n",
    "    print(\"letter is B\")\n",
    "\n",
    "else:\n",
    "\n",
    "    if letter == \"C\":\n",
    "        print(\"letter is C\")\n",
    "\n",
    "    else:\n",
    "\n",
    "        if letter == \"A\":\n",
    "            print(\"letter is A\")\n",
    "\n",
    "        else:\n",
    "            print(\"letter isn't A, B and C\")"
   ]
  },
  {
   "cell_type": "code",
   "execution_count": 39,
   "id": "48409283-5221-43cb-9b17-68ef43eb90ef",
   "metadata": {},
   "outputs": [
    {
     "name": "stdout",
     "output_type": "stream",
     "text": [
      "letter is A\n"
     ]
    }
   ],
   "source": [
    "# If-elif-else Conditional Statements in Python: The if statements are executed from the top down\n",
    "# if-elif statement example\n",
    "letter = \"A\"\n",
    "\n",
    "if letter == \"B\":\n",
    "    print(\"letter is B\")\n",
    "\n",
    "elif letter == \"C\":\n",
    "    print(\"letter is C\")\n",
    "\n",
    "elif letter == \"A\":\n",
    "    print(\"letter is A\")\n",
    "\n",
    "else:\n",
    "    print(\"letter isn't A, B or C\")"
   ]
  },
  {
   "cell_type": "code",
   "execution_count": 40,
   "id": "9099952b-957a-42ec-94e0-493aba7a9a94",
   "metadata": {},
   "outputs": [
    {
     "name": "stdout",
     "output_type": "stream",
     "text": [
      "b is greater than a\n"
     ]
    }
   ],
   "source": [
    "# Ternary Expression Conditional Statements in Python: The Python ternary Expression determines if a condition is true or false and then returns the appropriate value in accordance with the result\n",
    "# Python program to demonstrate nested ternary operator\n",
    "a, b = 10, 20\n",
    "\n",
    "print(\"Both a and b are equal\" if a == b else \"a is greater than b\"\n",
    "        if a > b else \"b is greater than a\")"
   ]
  },
  {
   "cell_type": "raw",
   "id": "bf413352-951c-489e-9a25-d826f4ca28af",
   "metadata": {},
   "source": [
    "Q7 Describe the different types of loops in Python and their use cases with examples"
   ]
  },
  {
   "cell_type": "code",
   "execution_count": 41,
   "id": "78cf0762-d121-478f-ba28-7e8a6fae5728",
   "metadata": {},
   "outputs": [
    {
     "name": "stdout",
     "output_type": "stream",
     "text": [
      "Hello Geek\n",
      "Hello Geek\n",
      "Hello Geek\n"
     ]
    }
   ],
   "source": [
    "# While Loop: The given Python code uses a ‘while' loop to print “Hello Geek” three times by incrementing a variable called ‘count' from 1 to 3\n",
    "count = 0\n",
    "while (count < 3):\n",
    "    count = count + 1\n",
    "    print(\"Hello Geek\")"
   ]
  },
  {
   "cell_type": "code",
   "execution_count": 42,
   "id": "98e3cef1-f48a-4194-9767-3e0f0ff86484",
   "metadata": {},
   "outputs": [
    {
     "name": "stdout",
     "output_type": "stream",
     "text": [
      "0\n",
      "1\n",
      "2\n",
      "3\n"
     ]
    }
   ],
   "source": [
    "# For Loop: For loops are used for sequential traversal. For example: traversing a list or string or array etc\n",
    "n = 4\n",
    "for i in range(0, n):\n",
    "    print(i)"
   ]
  },
  {
   "cell_type": "code",
   "execution_count": 43,
   "id": "d7a8c9bb-55b3-4f84-bd89-5183f1ab49b0",
   "metadata": {},
   "outputs": [
    {
     "name": "stdout",
     "output_type": "stream",
     "text": [
      "List Iteration\n",
      "geeks\n",
      "for\n",
      "geeks\n",
      "\n",
      "Tuple Iteration\n",
      "geeks\n",
      "for\n",
      "geeks\n",
      "\n",
      "String Iteration\n",
      "G\n",
      "e\n",
      "e\n",
      "k\n",
      "s\n",
      "\n",
      "Dictionary Iteration\n",
      "xyz  123\n",
      "abc  345\n",
      "\n",
      "Set Iteration\n",
      "1\n",
      "2\n",
      "3\n",
      "4\n",
      "5\n",
      "6\n"
     ]
    }
   ],
   "source": [
    "# It demonstrates iteration over lists, tuples, strings, dictionaries, and sets, printing their elements or key-value pairs\n",
    "print(\"List Iteration\")\n",
    "l = [\"geeks\", \"for\", \"geeks\"]\n",
    "for i in l:\n",
    "    print(i)\n",
    "print(\"\\nTuple Iteration\")\n",
    "t = (\"geeks\", \"for\", \"geeks\")\n",
    "for i in t:\n",
    "    print(i)\n",
    "print(\"\\nString Iteration\")\n",
    "s = \"Geeks\"\n",
    "for i in s:\n",
    "    print(i)\n",
    "print(\"\\nDictionary Iteration\")\n",
    "d = dict()\n",
    "d['xyz'] = 123\n",
    "d['abc'] = 345\n",
    "for i in d:\n",
    "    print(\"%s  %d\" % (i, d[i]))\n",
    "print(\"\\nSet Iteration\")\n",
    "set1 = {1, 2, 3, 4, 5, 6}\n",
    "for i in set1:\n",
    "    print(i),"
   ]
  },
  {
   "cell_type": "code",
   "execution_count": null,
   "id": "fe06bd4c-44ca-4e06-8950-277aa4de57c8",
   "metadata": {},
   "outputs": [],
   "source": []
  }
 ],
 "metadata": {
  "kernelspec": {
   "display_name": "Python 3 (ipykernel)",
   "language": "python",
   "name": "python3"
  },
  "language_info": {
   "codemirror_mode": {
    "name": "ipython",
    "version": 3
   },
   "file_extension": ".py",
   "mimetype": "text/x-python",
   "name": "python",
   "nbconvert_exporter": "python",
   "pygments_lexer": "ipython3",
   "version": "3.10.8"
  }
 },
 "nbformat": 4,
 "nbformat_minor": 5
}
